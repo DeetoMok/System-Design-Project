{
 "cells": [
  {
   "cell_type": "code",
   "execution_count": 1,
   "metadata": {},
   "outputs": [
    {
     "ename": "ModuleNotFoundError",
     "evalue": "No module named 'haversine'",
     "output_type": "error",
     "traceback": [
      "\u001b[1;31m---------------------------------------------------------------------------\u001b[0m",
      "\u001b[1;31mModuleNotFoundError\u001b[0m                       Traceback (most recent call last)",
      "\u001b[1;32m<ipython-input-1-927067a483f6>\u001b[0m in \u001b[0;36m<module>\u001b[1;34m\u001b[0m\n\u001b[0;32m      3\u001b[0m \u001b[1;32mfrom\u001b[0m \u001b[0msklearn\u001b[0m\u001b[1;33m.\u001b[0m\u001b[0mcluster\u001b[0m \u001b[1;32mimport\u001b[0m \u001b[0mKMeans\u001b[0m\u001b[1;33m\u001b[0m\u001b[0m\n\u001b[0;32m      4\u001b[0m \u001b[1;32mimport\u001b[0m \u001b[0mtime\u001b[0m\u001b[1;33m\u001b[0m\u001b[0m\n\u001b[1;32m----> 5\u001b[1;33m \u001b[1;32mfrom\u001b[0m \u001b[0mhaversine\u001b[0m \u001b[1;32mimport\u001b[0m \u001b[0mhaversine_vector\u001b[0m\u001b[1;33m,\u001b[0m \u001b[0mUnit\u001b[0m\u001b[1;33m\u001b[0m\u001b[0m\n\u001b[0m\u001b[0;32m      6\u001b[0m \u001b[1;32mfrom\u001b[0m \u001b[0mhaversine\u001b[0m \u001b[1;32mimport\u001b[0m \u001b[0mhaversine\u001b[0m\u001b[1;33m\u001b[0m\u001b[0m\n",
      "\u001b[1;31mModuleNotFoundError\u001b[0m: No module named 'haversine'"
     ]
    }
   ],
   "source": [
    "import pandas as pd\n",
    "import numpy as np\n",
    "from sklearn.cluster import KMeans\n",
    "import time\n",
    "from haversine import haversine_vector, Unit\n",
    "from haversine import haversine"
   ]
  },
  {
   "cell_type": "code",
   "execution_count": null,
   "metadata": {},
   "outputs": [],
   "source": [
    "def haverDist(OHCA_Cluster,AED_Cluster):\n",
    "    d = haversine_vector(list(zip(OHCA_Cluster.LatOHCA, OHCA_Cluster.LongOHCA)), list(zip(AED_Cluster.LatAED, AED_Cluster.LongAED)), Unit.METERS, comb=True).T\n",
    "    return(d)\n",
    "#zip()creates the objects and that can be used to produce single item at a time.\n",
    "#This function can create tuples by merging two lists"
   ]
  },
  {
   "cell_type": "code",
   "execution_count": null,
   "metadata": {
    "scrolled": false
   },
   "outputs": [],
   "source": [
    "haverDist(trainingOHCA.head(3), candidateAED.head())\n",
    "#returns a np.array of shape(no. of OHCA points, no. of AED points)，hence set (d[i][j]<S) as a constaint in MCLP\n",
    "#to verify: https://www.vcalc.com/wiki/vCalc/Haversine+-+Distance"
   ]
  },
  {
   "cell_type": "code",
   "execution_count": null,
   "metadata": {},
   "outputs": [],
   "source": [
    "SGbuildings = pd.read_csv('Singapore buildings locations.csv').rename(columns={'Lat':'LatAED','Lon':'LongAED'})\n",
    "trainingOHCA = pd.read_csv('generatedPoints1_100000.csv',names=['LatOHCA','LongOHCA'])\n",
    "\n",
    "SGbuildings.head()"
   ]
  },
  {
   "cell_type": "code",
   "execution_count": null,
   "metadata": {},
   "outputs": [],
   "source": [
    "trainingOHCA.head()"
   ]
  },
  {
   "cell_type": "code",
   "execution_count": null,
   "metadata": {},
   "outputs": [],
   "source": [
    "SGbuildings.shape"
   ]
  },
  {
   "cell_type": "code",
   "execution_count": null,
   "metadata": {},
   "outputs": [],
   "source": [
    "def kmeans_OHCA_AED(OHCA,AED,k): #k is the number of clusters chosen\n",
    "    kmeans = KMeans(n_clusters=k, random_state=0).fit(OHCA)\n",
    "    \n",
    "    #labels_:ndarray of shape (n_samples,), gives the label of cluster that each OHCA belongs to\n",
    "    OHCA_Cluster_All = pd.concat([OHCA,pd.DataFrame(kmeans.labels_,columns = [\"cluster\"])],axis=1)\n",
    "    \n",
    "    AED_label = kmeans.predict(AED)\n",
    "    AED_Cluster_All = pd.concat([AED, pd.DataFrame(AED_label,columns = [\"cluster\"])], axis=1)\n",
    "    return OHCA_Cluster_All, AED_Cluster_All, kmeans.cluster_centers_"
   ]
  },
  {
   "cell_type": "code",
   "execution_count": null,
   "metadata": {},
   "outputs": [],
   "source": [
    "%%time\n",
    "start_time = time.time()\n",
    "print('Splitting into 55 clusters:')\n",
    "OHCA_55cluster, buildings_55cluster, CC_55 = kmeans_OHCA_AED(trainingOHCA, SGbuildings, 55)\n",
    "print(\"--- %s seconds ---\" % (time.time() - start_time))"
   ]
  },
  {
   "cell_type": "code",
   "execution_count": null,
   "metadata": {},
   "outputs": [],
   "source": [
    "np.sort(OHCA_55cluster['cluster'].unique())"
   ]
  },
  {
   "cell_type": "code",
   "execution_count": null,
   "metadata": {},
   "outputs": [],
   "source": [
    "print(OHCA_55cluster.shape)\n",
    "print('Number of NaNs:',OHCA_55cluster['cluster'].isna().sum())\n",
    "\n",
    "\n",
    "print(buildings_55cluster.shape)\n",
    "print('Number of NaNs:', buildings_55cluster['cluster'].isna().sum())\n"
   ]
  },
  {
   "cell_type": "code",
   "execution_count": null,
   "metadata": {},
   "outputs": [],
   "source": [
    "OHCA_55cluster.groupby(['cluster'])[['LatOHCA']].count().rename(columns={'LatOHCA':'Number of OHCA in cluster'})"
   ]
  },
  {
   "cell_type": "code",
   "execution_count": null,
   "metadata": {},
   "outputs": [],
   "source": [
    "%%time\n",
    "start_time = time.time()\n",
    "\n",
    "cluster_centers = []\n",
    "OHCA_9900cluster = []\n",
    "buildings_9900cluster = []\n",
    "\n",
    "print('Number of NaNs in each cluster:')\n",
    "for i in range(0,55):    \n",
    "    OHCA_i = OHCA_55cluster.loc[OHCA_55cluster['cluster']==i].drop(columns=['cluster'])\n",
    "    buildings_i = buildings_55cluster.loc[buildings_55cluster['cluster']==i].drop(columns=['cluster'])\n",
    "    \n",
    "    #assume 9880 current AEDs, 9880/55 = approx 180\n",
    "    OHCA_180cluster, buildings_180cluster, CC_180 = kmeans_OHCA_AED(OHCA_i, buildings_i, 180) \n",
    "    NanCount = OHCA_180cluster['cluster'].isna().sum()\n",
    "    \n",
    "    cluster_centers.append(CC_180)\n",
    "    OHCA_9900cluster.append(OHCA_180cluster)\n",
    "    buildings_9900cluster.append(AED_180cluster)\n",
    "    \n",
    "    print(OHCA_180cluster.shape, buildings_180cluster.shape)\n",
    "    print('Cluster {}:'.format(i), NanCount)\n",
    "    \n",
    "print(\"--- %s seconds ---\" % (time.time() - start_time))"
   ]
  },
  {
   "cell_type": "code",
   "execution_count": null,
   "metadata": {},
   "outputs": [],
   "source": [
    "lst_for_df = []\n",
    "for i in range(0,55):\n",
    "    cluster_i = pd.DataFrame(cluster_centers[i],columns=['LatAED','LongAED'])\n",
    "    lst_for_df.append(cluster_i)\n"
   ]
  },
  {
   "cell_type": "code",
   "execution_count": null,
   "metadata": {},
   "outputs": [],
   "source": [
    "final_CC_df = pd.concat(lst_for_df, keys=list(i for i in range(0,55)))"
   ]
  },
  {
   "cell_type": "code",
   "execution_count": null,
   "metadata": {},
   "outputs": [],
   "source": [
    "final_CC_df"
   ]
  },
  {
   "cell_type": "code",
   "execution_count": null,
   "metadata": {},
   "outputs": [],
   "source": [
    "final_CC_df.isna().sum()"
   ]
  },
  {
   "cell_type": "code",
   "execution_count": null,
   "metadata": {
    "scrolled": true
   },
   "outputs": [],
   "source": [
    "#Example: cluster 0\n",
    "OHCA_0 = OHCA_55cluster.loc[OHCA_55cluster['cluster']==0].drop(columns=['cluster'])\n",
    "buildings_0 = buildings_55cluster.loc[buildings_55cluster['cluster']==0].drop(columns=['cluster'])\n",
    "OHCA_180, buildings_180, CC = kmeans_OHCA_AED(OHCA_0, buildings_0, 180) \n",
    "OHCA_180.info()"
   ]
  },
  {
   "cell_type": "code",
   "execution_count": null,
   "metadata": {},
   "outputs": [],
   "source": [
    "def totalCoverage(ohca_df, aed_df, MAX_DIST_METERS = 100):\n",
    "\n",
    "    def ClosestAED(r):\n",
    "        # Cartesian Distance: square root of (x2-x1)^2 + (y2-y1)^2\n",
    "        distances = ((r['LatOHCA']-aed_df['LatAED'])**2 + (r['LongOHCA']-aed_df['LongAED'])**2)**0.5\n",
    "        \n",
    "        # AED with minimum Distance from the OHCA\n",
    "        closestAEDId = distances[distances == distances.min()].index.to_list()[0]\n",
    "        \n",
    "        return aed_df.loc[closestAEDId, ['LatAED', 'LongAED']]\n",
    "\n",
    "    cp_ohca = ohca_df.copy()\n",
    "    cp_ohca[['ClosestAEDLatitude', 'ClosestAEDLongtitude']] = cp_ohca.apply(ClosestAED, axis=1)\n",
    "    \n",
    "    def haversine_np(lat1, lon1, lat2, lon2):\n",
    "        lon1, lat1, lon2, lat2 = map(np.radians, [lon1, lat1, lon2, lat2])\n",
    "        dlon = lon2 - lon1\n",
    "        dlat = lat2 - lat1\n",
    "\n",
    "        a = np.sin(dlat/2.0)**2 + np.cos(lat1) * np.cos(lat2) * np.sin(dlon/2.0)**2\n",
    "        c = 2 * np.arcsin(np.sqrt(a))\n",
    "        km = 6367 * c\n",
    "        return km * 1000\n",
    "    \n",
    "    cp_ohca['dist_nearest_AED'] = haversine_np(cp_ohca['LatOHCA'], cp_ohca['LongOHCA'],\n",
    "                                               cp_ohca['ClosestAEDLatitude'], cp_ohca['ClosestAEDLongtitude'])\n",
    "    # distance to nearest AED (in metres) is recorded for each OHCA\n",
    "    \n",
    "    cp_ohca.loc[cp_ohca['dist_nearest_AED'] <= 100, 'isCovered'] = 'covered'\n",
    "    cp_ohca.loc[cp_ohca['dist_nearest_AED'] > 100,'isCovered'] = 'uncovered'\n",
    "    # each OHCA having an AED within 100m has isCovered = 'covered', otherwise 'uncovered'\n",
    "    #print(cp_ohca)\n",
    "    \n",
    "    \n",
    "    within_100m  = sum(cp_ohca['isCovered'] == 'covered')\n",
    "    outside_100m = len(cp_ohca) - within_100m\n",
    "    total_coverage_within_100m = within_100m / (within_100m + outside_100m)\n",
    "    print(\"total coverage = \", total_coverage_within_100m)\n",
    "    \n",
    "    return total_coverage_within_100m\n",
    "\n",
    "def partial_coverage(ohca_df, aed_df, ALPHA = 0.05):\n",
    "    def ClosestAED(r):\n",
    "        # Cartesian Distance: square root of (x2-x1)^2 + (y2-y1)^2\n",
    "        distances = ((r['LatOHCA']-aed_df['LatAED'])**2 + (r['LongOHCA']-aed_df['LongAED'])**2)**0.5\n",
    "\n",
    "        # AED with minimum Distance from the OHCA\n",
    "        closestAEDId = distances[distances == distances.min()].index.to_list()[0]\n",
    "        return aed_df.loc[closestAEDId, ['LatAED', 'LongAED']]\n",
    "\n",
    "    cp_ohca = ohca_df.copy()\n",
    "    cp_ohca[['ClosestAEDLatitude', 'ClosestAEDLongtitude']] = cp_ohca.apply(ClosestAED, axis=1)\n",
    "    \n",
    "    def haversine_np(lat1, lon1, lat2, lon2):\n",
    "        lon1, lat1, lon2, lat2 = map(np.radians, [lon1, lat1, lon2, lat2])\n",
    "        dlon = lon2 - lon1\n",
    "        dlat = lat2 - lat1\n",
    "\n",
    "        a = np.sin(dlat/2.0)**2 + np.cos(lat1) * np.cos(lat2) * np.sin(dlon/2.0)**2\n",
    "        c = 2 * np.arcsin(np.sqrt(a))\n",
    "        km = 6367 * c\n",
    "        return km * 1000\n",
    "\n",
    "    cp_ohca['dist_nearest_AED'] = haversine_np(cp_ohca['LatOHCA'], cp_ohca['LongOHCA'],\n",
    "                                               cp_ohca['ClosestAEDLatitude'], cp_ohca['ClosestAEDLongtitude'])\n",
    "    # distance to nearest AED (in metres) is recorded for each OHCA\n",
    "    \n",
    "    cp_ohca.loc[cp_ohca['dist_nearest_AED'] <= 20,'p_ij_coverage'] = 1.0\n",
    "    cp_ohca.loc[cp_ohca['dist_nearest_AED'] >= 100,'p_ij_coverage'] = 0.0\n",
    "    cp_ohca.loc[(cp_ohca['dist_nearest_AED'] < 100) & (cp_ohca['dist_nearest_AED'] > 20),\n",
    "                'p_ij_coverage'] = np.exp(- ALPHA * (cp_ohca['dist_nearest_AED'] - 20))\n",
    "    # p_ij of each OHCA calulated\n",
    "    # print(cp_ohca)\n",
    "    \n",
    "    return cp_ohca['p_ij_coverage'].mean()\n"
   ]
  },
  {
   "cell_type": "code",
   "execution_count": null,
   "metadata": {},
   "outputs": [],
   "source": [
    "#totalCoverage(trainingOHCA, final_CC_df, MAX_DIST_METERS = 100)"
   ]
  }
 ],
 "metadata": {
  "kernelspec": {
   "display_name": "Python 3",
   "language": "python",
   "name": "python3"
  },
  "language_info": {
   "codemirror_mode": {
    "name": "ipython",
    "version": 3
   },
   "file_extension": ".py",
   "mimetype": "text/x-python",
   "name": "python",
   "nbconvert_exporter": "python",
   "pygments_lexer": "ipython3",
   "version": "3.6.5"
  }
 },
 "nbformat": 4,
 "nbformat_minor": 5
}
