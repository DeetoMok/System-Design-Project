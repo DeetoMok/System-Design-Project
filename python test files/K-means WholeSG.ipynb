{
 "cells": [
  {
   "cell_type": "code",
   "execution_count": 1,
   "id": "c04cdca9",
   "metadata": {},
   "outputs": [],
   "source": [
    "import pandas as pd\n",
    "import numpy as np\n",
    "from sklearn.cluster import KMeans\n",
    "import time\n",
    "# from haversine import haversine_vector, Unit\n",
    "# from haversine import haversine"
   ]
  },
  {
   "cell_type": "code",
   "execution_count": 2,
   "id": "610621d6",
   "metadata": {},
   "outputs": [],
   "source": [
    "def haverDist(OHCA_Cluster,AED_Cluster):\n",
    "    d = haversine_vector(list(zip(OHCA_Cluster.LatOHCA, OHCA_Cluster.LongOHCA)), list(zip(AED_Cluster.LatAED, AED_Cluster.LongAED)), Unit.METERS, comb=True).T\n",
    "    return(d)\n",
    "#zip()creates the objects and that can be used to produce single item at a time.\n",
    "#This function can create tuples by merging two lists"
   ]
  },
  {
   "cell_type": "code",
   "execution_count": 3,
   "id": "532907cb",
   "metadata": {},
   "outputs": [
    {
     "ename": "FileNotFoundError",
     "evalue": "[Errno 2] No such file or directory: '../../../OneDrive/Documents/University_Files/Y4S1/IE3100M - System Design Project/Li Wanbing Documents/Virtual Test Problems/Singapore buildings locations.csv'",
     "output_type": "error",
     "traceback": [
      "\u001b[1;31m---------------------------------------------------------------------------\u001b[0m",
      "\u001b[1;31mFileNotFoundError\u001b[0m                         Traceback (most recent call last)",
      "\u001b[1;32m~\\AppData\\Local\\Temp/ipykernel_14296/27974029.py\u001b[0m in \u001b[0;36m<module>\u001b[1;34m\u001b[0m\n\u001b[1;32m----> 1\u001b[1;33m \u001b[0mSGbuildings\u001b[0m \u001b[1;33m=\u001b[0m \u001b[0mpd\u001b[0m\u001b[1;33m.\u001b[0m\u001b[0mread_csv\u001b[0m\u001b[1;33m(\u001b[0m\u001b[1;34m'../../../OneDrive/Documents/University_Files/Y4S1/IE3100M - System Design Project/Li Wanbing Documents/Virtual Test Problems/Singapore buildings locations.csv'\u001b[0m\u001b[1;33m)\u001b[0m\u001b[1;33m\u001b[0m\u001b[1;33m\u001b[0m\u001b[0m\n\u001b[0m\u001b[0;32m      2\u001b[0m \u001b[1;31m# SGbuildings = pd.read_csv('../../../OneDrive/Documents/University_Files/Y4S1/IE3100M - System Design Project/Li Wanbing Documents/Virtual Test Problems/Singapore buildings locations.csv').rename(columns={'Lat':'LatAED','Lon':'LongAED'})\u001b[0m\u001b[1;33m\u001b[0m\u001b[1;33m\u001b[0m\u001b[0m\n\u001b[0;32m      3\u001b[0m \u001b[1;31m# trainingOHCA = pd.read_csv('../../../OneDrive/Documents/University_Files/Y4S1/IE3100M - System Design Project/Li Wanbing Documents/Virtual Test Problems/Test Problem Set 1 - 20210203/generatedPoints1_100000.csv',names=['LatOHCA','LongOHCA'])\u001b[0m\u001b[1;33m\u001b[0m\u001b[1;33m\u001b[0m\u001b[0m\n\u001b[0;32m      4\u001b[0m \u001b[1;33m\u001b[0m\u001b[0m\n\u001b[0;32m      5\u001b[0m \u001b[1;31m# SGbuildings.head()\u001b[0m\u001b[1;33m\u001b[0m\u001b[1;33m\u001b[0m\u001b[0m\n",
      "\u001b[1;32m~\\anaconda3\\lib\\site-packages\\pandas\\util\\_decorators.py\u001b[0m in \u001b[0;36mwrapper\u001b[1;34m(*args, **kwargs)\u001b[0m\n\u001b[0;32m    309\u001b[0m                     \u001b[0mstacklevel\u001b[0m\u001b[1;33m=\u001b[0m\u001b[0mstacklevel\u001b[0m\u001b[1;33m,\u001b[0m\u001b[1;33m\u001b[0m\u001b[1;33m\u001b[0m\u001b[0m\n\u001b[0;32m    310\u001b[0m                 )\n\u001b[1;32m--> 311\u001b[1;33m             \u001b[1;32mreturn\u001b[0m \u001b[0mfunc\u001b[0m\u001b[1;33m(\u001b[0m\u001b[1;33m*\u001b[0m\u001b[0margs\u001b[0m\u001b[1;33m,\u001b[0m \u001b[1;33m**\u001b[0m\u001b[0mkwargs\u001b[0m\u001b[1;33m)\u001b[0m\u001b[1;33m\u001b[0m\u001b[1;33m\u001b[0m\u001b[0m\n\u001b[0m\u001b[0;32m    312\u001b[0m \u001b[1;33m\u001b[0m\u001b[0m\n\u001b[0;32m    313\u001b[0m         \u001b[1;32mreturn\u001b[0m \u001b[0mwrapper\u001b[0m\u001b[1;33m\u001b[0m\u001b[1;33m\u001b[0m\u001b[0m\n",
      "\u001b[1;32m~\\anaconda3\\lib\\site-packages\\pandas\\io\\parsers\\readers.py\u001b[0m in \u001b[0;36mread_csv\u001b[1;34m(filepath_or_buffer, sep, delimiter, header, names, index_col, usecols, squeeze, prefix, mangle_dupe_cols, dtype, engine, converters, true_values, false_values, skipinitialspace, skiprows, skipfooter, nrows, na_values, keep_default_na, na_filter, verbose, skip_blank_lines, parse_dates, infer_datetime_format, keep_date_col, date_parser, dayfirst, cache_dates, iterator, chunksize, compression, thousands, decimal, lineterminator, quotechar, quoting, doublequote, escapechar, comment, encoding, encoding_errors, dialect, error_bad_lines, warn_bad_lines, on_bad_lines, delim_whitespace, low_memory, memory_map, float_precision, storage_options)\u001b[0m\n\u001b[0;32m    584\u001b[0m     \u001b[0mkwds\u001b[0m\u001b[1;33m.\u001b[0m\u001b[0mupdate\u001b[0m\u001b[1;33m(\u001b[0m\u001b[0mkwds_defaults\u001b[0m\u001b[1;33m)\u001b[0m\u001b[1;33m\u001b[0m\u001b[1;33m\u001b[0m\u001b[0m\n\u001b[0;32m    585\u001b[0m \u001b[1;33m\u001b[0m\u001b[0m\n\u001b[1;32m--> 586\u001b[1;33m     \u001b[1;32mreturn\u001b[0m \u001b[0m_read\u001b[0m\u001b[1;33m(\u001b[0m\u001b[0mfilepath_or_buffer\u001b[0m\u001b[1;33m,\u001b[0m \u001b[0mkwds\u001b[0m\u001b[1;33m)\u001b[0m\u001b[1;33m\u001b[0m\u001b[1;33m\u001b[0m\u001b[0m\n\u001b[0m\u001b[0;32m    587\u001b[0m \u001b[1;33m\u001b[0m\u001b[0m\n\u001b[0;32m    588\u001b[0m \u001b[1;33m\u001b[0m\u001b[0m\n",
      "\u001b[1;32m~\\anaconda3\\lib\\site-packages\\pandas\\io\\parsers\\readers.py\u001b[0m in \u001b[0;36m_read\u001b[1;34m(filepath_or_buffer, kwds)\u001b[0m\n\u001b[0;32m    480\u001b[0m \u001b[1;33m\u001b[0m\u001b[0m\n\u001b[0;32m    481\u001b[0m     \u001b[1;31m# Create the parser.\u001b[0m\u001b[1;33m\u001b[0m\u001b[1;33m\u001b[0m\u001b[0m\n\u001b[1;32m--> 482\u001b[1;33m     \u001b[0mparser\u001b[0m \u001b[1;33m=\u001b[0m \u001b[0mTextFileReader\u001b[0m\u001b[1;33m(\u001b[0m\u001b[0mfilepath_or_buffer\u001b[0m\u001b[1;33m,\u001b[0m \u001b[1;33m**\u001b[0m\u001b[0mkwds\u001b[0m\u001b[1;33m)\u001b[0m\u001b[1;33m\u001b[0m\u001b[1;33m\u001b[0m\u001b[0m\n\u001b[0m\u001b[0;32m    483\u001b[0m \u001b[1;33m\u001b[0m\u001b[0m\n\u001b[0;32m    484\u001b[0m     \u001b[1;32mif\u001b[0m \u001b[0mchunksize\u001b[0m \u001b[1;32mor\u001b[0m \u001b[0miterator\u001b[0m\u001b[1;33m:\u001b[0m\u001b[1;33m\u001b[0m\u001b[1;33m\u001b[0m\u001b[0m\n",
      "\u001b[1;32m~\\anaconda3\\lib\\site-packages\\pandas\\io\\parsers\\readers.py\u001b[0m in \u001b[0;36m__init__\u001b[1;34m(self, f, engine, **kwds)\u001b[0m\n\u001b[0;32m    809\u001b[0m             \u001b[0mself\u001b[0m\u001b[1;33m.\u001b[0m\u001b[0moptions\u001b[0m\u001b[1;33m[\u001b[0m\u001b[1;34m\"has_index_names\"\u001b[0m\u001b[1;33m]\u001b[0m \u001b[1;33m=\u001b[0m \u001b[0mkwds\u001b[0m\u001b[1;33m[\u001b[0m\u001b[1;34m\"has_index_names\"\u001b[0m\u001b[1;33m]\u001b[0m\u001b[1;33m\u001b[0m\u001b[1;33m\u001b[0m\u001b[0m\n\u001b[0;32m    810\u001b[0m \u001b[1;33m\u001b[0m\u001b[0m\n\u001b[1;32m--> 811\u001b[1;33m         \u001b[0mself\u001b[0m\u001b[1;33m.\u001b[0m\u001b[0m_engine\u001b[0m \u001b[1;33m=\u001b[0m \u001b[0mself\u001b[0m\u001b[1;33m.\u001b[0m\u001b[0m_make_engine\u001b[0m\u001b[1;33m(\u001b[0m\u001b[0mself\u001b[0m\u001b[1;33m.\u001b[0m\u001b[0mengine\u001b[0m\u001b[1;33m)\u001b[0m\u001b[1;33m\u001b[0m\u001b[1;33m\u001b[0m\u001b[0m\n\u001b[0m\u001b[0;32m    812\u001b[0m \u001b[1;33m\u001b[0m\u001b[0m\n\u001b[0;32m    813\u001b[0m     \u001b[1;32mdef\u001b[0m \u001b[0mclose\u001b[0m\u001b[1;33m(\u001b[0m\u001b[0mself\u001b[0m\u001b[1;33m)\u001b[0m\u001b[1;33m:\u001b[0m\u001b[1;33m\u001b[0m\u001b[1;33m\u001b[0m\u001b[0m\n",
      "\u001b[1;32m~\\anaconda3\\lib\\site-packages\\pandas\\io\\parsers\\readers.py\u001b[0m in \u001b[0;36m_make_engine\u001b[1;34m(self, engine)\u001b[0m\n\u001b[0;32m   1038\u001b[0m             )\n\u001b[0;32m   1039\u001b[0m         \u001b[1;31m# error: Too many arguments for \"ParserBase\"\u001b[0m\u001b[1;33m\u001b[0m\u001b[1;33m\u001b[0m\u001b[0m\n\u001b[1;32m-> 1040\u001b[1;33m         \u001b[1;32mreturn\u001b[0m \u001b[0mmapping\u001b[0m\u001b[1;33m[\u001b[0m\u001b[0mengine\u001b[0m\u001b[1;33m]\u001b[0m\u001b[1;33m(\u001b[0m\u001b[0mself\u001b[0m\u001b[1;33m.\u001b[0m\u001b[0mf\u001b[0m\u001b[1;33m,\u001b[0m \u001b[1;33m**\u001b[0m\u001b[0mself\u001b[0m\u001b[1;33m.\u001b[0m\u001b[0moptions\u001b[0m\u001b[1;33m)\u001b[0m  \u001b[1;31m# type: ignore[call-arg]\u001b[0m\u001b[1;33m\u001b[0m\u001b[1;33m\u001b[0m\u001b[0m\n\u001b[0m\u001b[0;32m   1041\u001b[0m \u001b[1;33m\u001b[0m\u001b[0m\n\u001b[0;32m   1042\u001b[0m     \u001b[1;32mdef\u001b[0m \u001b[0m_failover_to_python\u001b[0m\u001b[1;33m(\u001b[0m\u001b[0mself\u001b[0m\u001b[1;33m)\u001b[0m\u001b[1;33m:\u001b[0m\u001b[1;33m\u001b[0m\u001b[1;33m\u001b[0m\u001b[0m\n",
      "\u001b[1;32m~\\anaconda3\\lib\\site-packages\\pandas\\io\\parsers\\c_parser_wrapper.py\u001b[0m in \u001b[0;36m__init__\u001b[1;34m(self, src, **kwds)\u001b[0m\n\u001b[0;32m     49\u001b[0m \u001b[1;33m\u001b[0m\u001b[0m\n\u001b[0;32m     50\u001b[0m         \u001b[1;31m# open handles\u001b[0m\u001b[1;33m\u001b[0m\u001b[1;33m\u001b[0m\u001b[0m\n\u001b[1;32m---> 51\u001b[1;33m         \u001b[0mself\u001b[0m\u001b[1;33m.\u001b[0m\u001b[0m_open_handles\u001b[0m\u001b[1;33m(\u001b[0m\u001b[0msrc\u001b[0m\u001b[1;33m,\u001b[0m \u001b[0mkwds\u001b[0m\u001b[1;33m)\u001b[0m\u001b[1;33m\u001b[0m\u001b[1;33m\u001b[0m\u001b[0m\n\u001b[0m\u001b[0;32m     52\u001b[0m         \u001b[1;32massert\u001b[0m \u001b[0mself\u001b[0m\u001b[1;33m.\u001b[0m\u001b[0mhandles\u001b[0m \u001b[1;32mis\u001b[0m \u001b[1;32mnot\u001b[0m \u001b[1;32mNone\u001b[0m\u001b[1;33m\u001b[0m\u001b[1;33m\u001b[0m\u001b[0m\n\u001b[0;32m     53\u001b[0m \u001b[1;33m\u001b[0m\u001b[0m\n",
      "\u001b[1;32m~\\anaconda3\\lib\\site-packages\\pandas\\io\\parsers\\base_parser.py\u001b[0m in \u001b[0;36m_open_handles\u001b[1;34m(self, src, kwds)\u001b[0m\n\u001b[0;32m    220\u001b[0m         \u001b[0mLet\u001b[0m \u001b[0mthe\u001b[0m \u001b[0mreaders\u001b[0m \u001b[0mopen\u001b[0m \u001b[0mIOHandles\u001b[0m \u001b[0mafter\u001b[0m \u001b[0mthey\u001b[0m \u001b[0mare\u001b[0m \u001b[0mdone\u001b[0m \u001b[1;32mwith\u001b[0m \u001b[0mtheir\u001b[0m \u001b[0mpotential\u001b[0m \u001b[0mraises\u001b[0m\u001b[1;33m.\u001b[0m\u001b[1;33m\u001b[0m\u001b[1;33m\u001b[0m\u001b[0m\n\u001b[0;32m    221\u001b[0m         \"\"\"\n\u001b[1;32m--> 222\u001b[1;33m         self.handles = get_handle(\n\u001b[0m\u001b[0;32m    223\u001b[0m             \u001b[0msrc\u001b[0m\u001b[1;33m,\u001b[0m\u001b[1;33m\u001b[0m\u001b[1;33m\u001b[0m\u001b[0m\n\u001b[0;32m    224\u001b[0m             \u001b[1;34m\"r\"\u001b[0m\u001b[1;33m,\u001b[0m\u001b[1;33m\u001b[0m\u001b[1;33m\u001b[0m\u001b[0m\n",
      "\u001b[1;32m~\\anaconda3\\lib\\site-packages\\pandas\\io\\common.py\u001b[0m in \u001b[0;36mget_handle\u001b[1;34m(path_or_buf, mode, encoding, compression, memory_map, is_text, errors, storage_options)\u001b[0m\n\u001b[0;32m    700\u001b[0m         \u001b[1;32mif\u001b[0m \u001b[0mioargs\u001b[0m\u001b[1;33m.\u001b[0m\u001b[0mencoding\u001b[0m \u001b[1;32mand\u001b[0m \u001b[1;34m\"b\"\u001b[0m \u001b[1;32mnot\u001b[0m \u001b[1;32min\u001b[0m \u001b[0mioargs\u001b[0m\u001b[1;33m.\u001b[0m\u001b[0mmode\u001b[0m\u001b[1;33m:\u001b[0m\u001b[1;33m\u001b[0m\u001b[1;33m\u001b[0m\u001b[0m\n\u001b[0;32m    701\u001b[0m             \u001b[1;31m# Encoding\u001b[0m\u001b[1;33m\u001b[0m\u001b[1;33m\u001b[0m\u001b[0m\n\u001b[1;32m--> 702\u001b[1;33m             handle = open(\n\u001b[0m\u001b[0;32m    703\u001b[0m                 \u001b[0mhandle\u001b[0m\u001b[1;33m,\u001b[0m\u001b[1;33m\u001b[0m\u001b[1;33m\u001b[0m\u001b[0m\n\u001b[0;32m    704\u001b[0m                 \u001b[0mioargs\u001b[0m\u001b[1;33m.\u001b[0m\u001b[0mmode\u001b[0m\u001b[1;33m,\u001b[0m\u001b[1;33m\u001b[0m\u001b[1;33m\u001b[0m\u001b[0m\n",
      "\u001b[1;31mFileNotFoundError\u001b[0m: [Errno 2] No such file or directory: '../../../OneDrive/Documents/University_Files/Y4S1/IE3100M - System Design Project/Li Wanbing Documents/Virtual Test Problems/Singapore buildings locations.csv'"
     ]
    }
   ],
   "source": [
    "SGbuildings = pd.read_csv('../../../OneDrive/Documents/University_Files/Y4S1/IE3100M - System Design Project/Li Wanbing Documents/Virtual Test Problems/Singapore buildings locations.csv')\n",
    "# SGbuildings = pd.read_csv('../../../OneDrive/Documents/University_Files/Y4S1/IE3100M - System Design Project/Li Wanbing Documents/Virtual Test Problems/Singapore buildings locations.csv').rename(columns={'Lat':'LatAED','Lon':'LongAED'})\n",
    "# trainingOHCA = pd.read_csv('../../../OneDrive/Documents/University_Files/Y4S1/IE3100M - System Design Project/Li Wanbing Documents/Virtual Test Problems/Test Problem Set 1 - 20210203/generatedPoints1_100000.csv',names=['LatOHCA','LongOHCA'])\n",
    "\n",
    "# SGbuildings.head()"
   ]
  },
  {
   "cell_type": "code",
   "execution_count": null,
   "id": "fab7a478",
   "metadata": {},
   "outputs": [],
   "source": [
    "haverDist(trainingOHCA.head(3), candidateAED.head())\n",
    "#returns a np.array of shape(no. of OHCA points, no. of AED points)，hence set (d[i][j]<S) as a constaint in MCLP\n",
    "#to verify: https://www.vcalc.com/wiki/vCalc/Haversine+-+Distance"
   ]
  },
  {
   "cell_type": "code",
   "execution_count": null,
   "id": "ec051970",
   "metadata": {},
   "outputs": [],
   "source": [
    "trainingOHCA.head()"
   ]
  },
  {
   "cell_type": "code",
   "execution_count": null,
   "id": "e8988be9",
   "metadata": {},
   "outputs": [],
   "source": [
    "SGbuildings.shape"
   ]
  },
  {
   "cell_type": "code",
   "execution_count": null,
   "id": "c40e574e",
   "metadata": {},
   "outputs": [],
   "source": [
    "def kmeans_OHCA_AED(OHCA,AED,k): #k is the number of clusters chosen\n",
    "    kmeans = KMeans(n_clusters=k, random_state=0).fit(OHCA)\n",
    "    \n",
    "    #labels_:ndarray of shape (n_samples,), gives the label of cluster that each OHCA belongs to\n",
    "    OHCA_Cluster_All = pd.concat([OHCA,pd.DataFrame(kmeans.labels_,columns = [\"cluster\"])],axis=1)\n",
    "    \n",
    "    AED_label = kmeans.predict(AED)\n",
    "    AED_Cluster_All = pd.concat([AED, pd.DataFrame(AED_label,columns = [\"cluster\"])], axis=1)\n",
    "    return OHCA_Cluster_All, AED_Cluster_All, kmeans.cluster_centers_"
   ]
  },
  {
   "cell_type": "code",
   "execution_count": null,
   "id": "9a1a90c8",
   "metadata": {},
   "outputs": [],
   "source": [
    "%%time\n",
    "start_time = time.time()\n",
    "print('Splitting into 55 clusters:')\n",
    "OHCA_55cluster, buildings_55cluster, CC_55 = kmeans_OHCA_AED(trainingOHCA, SGbuildings, 55)\n",
    "print(\"--- %s seconds ---\" % (time.time() - start_time))"
   ]
  },
  {
   "cell_type": "code",
   "execution_count": null,
   "id": "b17d5b44",
   "metadata": {},
   "outputs": [],
   "source": [
    "np.sort(OHCA_55cluster['cluster'].unique())"
   ]
  },
  {
   "cell_type": "code",
   "execution_count": null,
   "id": "219b8d77",
   "metadata": {},
   "outputs": [],
   "source": [
    "print(OHCA_55cluster.shape)\n",
    "print('Number of NaNs:',OHCA_55cluster['cluster'].isna().sum())\n",
    "\n",
    "\n",
    "print(buildings_55cluster.shape)\n",
    "print('Number of NaNs:', buildings_55cluster['cluster'].isna().sum())\n"
   ]
  },
  {
   "cell_type": "code",
   "execution_count": null,
   "id": "786787ae",
   "metadata": {},
   "outputs": [],
   "source": [
    "OHCA_55cluster.groupby(['cluster'])[['LatOHCA']].count().rename(columns={'LatOHCA':'Number of OHCA in cluster'})"
   ]
  },
  {
   "cell_type": "code",
   "execution_count": null,
   "id": "005051dd",
   "metadata": {},
   "outputs": [],
   "source": [
    "%%time\n",
    "start_time = time.time()\n",
    "\n",
    "cluster_centers = []\n",
    "OHCA_9900cluster = []\n",
    "buildings_9900cluster = []\n",
    "\n",
    "print('Number of NaNs in each cluster:')\n",
    "for i in range(0,55):    \n",
    "    OHCA_i = OHCA_55cluster.loc[OHCA_55cluster['cluster']==i].drop(columns=['cluster'])\n",
    "    buildings_i = buildings_55cluster.loc[buildings_55cluster['cluster']==i].drop(columns=['cluster'])\n",
    "    \n",
    "    #assume 9880 current AEDs, 9880/55 = approx 180\n",
    "    OHCA_180cluster, buildings_180cluster, CC_180 = kmeans_OHCA_AED(OHCA_i, buildings_i, 180) \n",
    "    NanCount = OHCA_180cluster['cluster'].isna().sum()\n",
    "    \n",
    "    cluster_centers.append(CC_180)\n",
    "    OHCA_9900cluster.append(OHCA_180cluster)\n",
    "    buildings_9900cluster.append(AED_180cluster)\n",
    "    \n",
    "    print(OHCA_180cluster.shape, buildings_180cluster.shape)\n",
    "    print('Cluster {}:'.format(i), NanCount)\n",
    "    \n",
    "print(\"--- %s seconds ---\" % (time.time() - start_time))"
   ]
  },
  {
   "cell_type": "code",
   "execution_count": null,
   "id": "151c71f9",
   "metadata": {},
   "outputs": [],
   "source": [
    "lst_for_df = []\n",
    "for i in range(0,55):\n",
    "    cluster_i = pd.DataFrame(cluster_centers[i],columns=['LatAED','LongAED'])\n",
    "    lst_for_df.append(cluster_i)\n"
   ]
  },
  {
   "cell_type": "code",
   "execution_count": null,
   "id": "53491088",
   "metadata": {},
   "outputs": [],
   "source": [
    "final_CC_df = pd.concat(lst_for_df, keys=list(i for i in range(0,55)))"
   ]
  },
  {
   "cell_type": "code",
   "execution_count": null,
   "id": "855c08d7",
   "metadata": {},
   "outputs": [],
   "source": [
    "final_CC_df"
   ]
  },
  {
   "cell_type": "code",
   "execution_count": null,
   "id": "ece47e2d",
   "metadata": {},
   "outputs": [],
   "source": [
    "final_CC_df.isna().sum()"
   ]
  },
  {
   "cell_type": "code",
   "execution_count": null,
   "id": "69ec01f4",
   "metadata": {
    "scrolled": true
   },
   "outputs": [],
   "source": [
    "#Example: cluster 0\n",
    "OHCA_0 = OHCA_55cluster.loc[OHCA_55cluster['cluster']==0].drop(columns=['cluster'])\n",
    "buildings_0 = buildings_55cluster.loc[buildings_55cluster['cluster']==0].drop(columns=['cluster'])\n",
    "OHCA_180, buildings_180, CC = kmeans_OHCA_AED(OHCA_0, buildings_0, 180) \n",
    "OHCA_180.info()"
   ]
  },
  {
   "cell_type": "code",
   "execution_count": null,
   "id": "b23f07f0",
   "metadata": {},
   "outputs": [],
   "source": [
    "def totalCoverage(ohca_df, aed_df, MAX_DIST_METERS = 100):\n",
    "\n",
    "    def ClosestAED(r):\n",
    "        # Cartesian Distance: square root of (x2-x1)^2 + (y2-y1)^2\n",
    "        distances = ((r['LatOHCA']-aed_df['LatAED'])**2 + (r['LongOHCA']-aed_df['LongAED'])**2)**0.5\n",
    "        \n",
    "        # AED with minimum Distance from the OHCA\n",
    "        closestAEDId = distances[distances == distances.min()].index.to_list()[0]\n",
    "        \n",
    "        return aed_df.loc[closestAEDId, ['LatAED', 'LongAED']]\n",
    "\n",
    "    cp_ohca = ohca_df.copy()\n",
    "    cp_ohca[['ClosestAEDLatitude', 'ClosestAEDLongtitude']] = cp_ohca.apply(ClosestAED, axis=1)\n",
    "    \n",
    "    def haversine_np(lat1, lon1, lat2, lon2):\n",
    "        lon1, lat1, lon2, lat2 = map(np.radians, [lon1, lat1, lon2, lat2])\n",
    "        dlon = lon2 - lon1\n",
    "        dlat = lat2 - lat1\n",
    "\n",
    "        a = np.sin(dlat/2.0)**2 + np.cos(lat1) * np.cos(lat2) * np.sin(dlon/2.0)**2\n",
    "        c = 2 * np.arcsin(np.sqrt(a))\n",
    "        km = 6367 * c\n",
    "        return km * 1000\n",
    "    \n",
    "    cp_ohca['dist_nearest_AED'] = haversine_np(cp_ohca['LatOHCA'], cp_ohca['LongOHCA'],\n",
    "                                               cp_ohca['ClosestAEDLatitude'], cp_ohca['ClosestAEDLongtitude'])\n",
    "    # distance to nearest AED (in metres) is recorded for each OHCA\n",
    "    \n",
    "    cp_ohca.loc[cp_ohca['dist_nearest_AED'] <= 100, 'isCovered'] = 'covered'\n",
    "    cp_ohca.loc[cp_ohca['dist_nearest_AED'] > 100,'isCovered'] = 'uncovered'\n",
    "    # each OHCA having an AED within 100m has isCovered = 'covered', otherwise 'uncovered'\n",
    "    #print(cp_ohca)\n",
    "    \n",
    "    \n",
    "    within_100m  = sum(cp_ohca['isCovered'] == 'covered')\n",
    "    outside_100m = len(cp_ohca) - within_100m\n",
    "    total_coverage_within_100m = within_100m / (within_100m + outside_100m)\n",
    "    print(\"total coverage = \", total_coverage_within_100m)\n",
    "    \n",
    "    return total_coverage_within_100m\n",
    "\n",
    "def partial_coverage(ohca_df, aed_df, ALPHA = 0.05):\n",
    "    def ClosestAED(r):\n",
    "        # Cartesian Distance: square root of (x2-x1)^2 + (y2-y1)^2\n",
    "        distances = ((r['LatOHCA']-aed_df['LatAED'])**2 + (r['LongOHCA']-aed_df['LongAED'])**2)**0.5\n",
    "\n",
    "        # AED with minimum Distance from the OHCA\n",
    "        closestAEDId = distances[distances == distances.min()].index.to_list()[0]\n",
    "        return aed_df.loc[closestAEDId, ['LatAED', 'LongAED']]\n",
    "\n",
    "    cp_ohca = ohca_df.copy()\n",
    "    cp_ohca[['ClosestAEDLatitude', 'ClosestAEDLongtitude']] = cp_ohca.apply(ClosestAED, axis=1)\n",
    "    \n",
    "    def haversine_np(lat1, lon1, lat2, lon2):\n",
    "        lon1, lat1, lon2, lat2 = map(np.radians, [lon1, lat1, lon2, lat2])\n",
    "        dlon = lon2 - lon1\n",
    "        dlat = lat2 - lat1\n",
    "\n",
    "        a = np.sin(dlat/2.0)**2 + np.cos(lat1) * np.cos(lat2) * np.sin(dlon/2.0)**2\n",
    "        c = 2 * np.arcsin(np.sqrt(a))\n",
    "        km = 6367 * c\n",
    "        return km * 1000\n",
    "\n",
    "    cp_ohca['dist_nearest_AED'] = haversine_np(cp_ohca['LatOHCA'], cp_ohca['LongOHCA'],\n",
    "                                               cp_ohca['ClosestAEDLatitude'], cp_ohca['ClosestAEDLongtitude'])\n",
    "    # distance to nearest AED (in metres) is recorded for each OHCA\n",
    "    \n",
    "    cp_ohca.loc[cp_ohca['dist_nearest_AED'] <= 20,'p_ij_coverage'] = 1.0\n",
    "    cp_ohca.loc[cp_ohca['dist_nearest_AED'] >= 100,'p_ij_coverage'] = 0.0\n",
    "    cp_ohca.loc[(cp_ohca['dist_nearest_AED'] < 100) & (cp_ohca['dist_nearest_AED'] > 20),\n",
    "                'p_ij_coverage'] = np.exp(- ALPHA * (cp_ohca['dist_nearest_AED'] - 20))\n",
    "    # p_ij of each OHCA calulated\n",
    "    # print(cp_ohca)\n",
    "    \n",
    "    return cp_ohca['p_ij_coverage'].mean()\n"
   ]
  },
  {
   "cell_type": "code",
   "execution_count": null,
   "id": "72a92ab7",
   "metadata": {},
   "outputs": [],
   "source": [
    "#totalCoverage(trainingOHCA, final_CC_df, MAX_DIST_METERS = 100)"
   ]
  }
 ],
 "metadata": {
  "kernelspec": {
   "display_name": "Python 3 (ipykernel)",
   "language": "python",
   "name": "python3"
  },
  "language_info": {
   "codemirror_mode": {
    "name": "ipython",
    "version": 3
   },
   "file_extension": ".py",
   "mimetype": "text/x-python",
   "name": "python",
   "nbconvert_exporter": "python",
   "pygments_lexer": "ipython3",
   "version": "3.9.7"
  }
 },
 "nbformat": 4,
 "nbformat_minor": 5
}
