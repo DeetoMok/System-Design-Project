{
 "cells": [
  {
   "cell_type": "code",
   "execution_count": 27,
   "metadata": {},
   "outputs": [],
   "source": [
    "import pandas as pd\n",
    "import numpy as np\n",
    "from sklearn.cluster import KMeans\n",
    "import time\n",
    "import math\n",
    "# from haversine import haversine_vector, Unit\n",
    "# from haversine import haversine"
   ]
  },
  {
   "cell_type": "code",
   "execution_count": 20,
   "metadata": {},
   "outputs": [
    {
     "data": {
      "text/html": [
       "<div>\n",
       "<style scoped>\n",
       "    .dataframe tbody tr th:only-of-type {\n",
       "        vertical-align: middle;\n",
       "    }\n",
       "\n",
       "    .dataframe tbody tr th {\n",
       "        vertical-align: top;\n",
       "    }\n",
       "\n",
       "    .dataframe thead th {\n",
       "        text-align: right;\n",
       "    }\n",
       "</style>\n",
       "<table border=\"1\" class=\"dataframe\">\n",
       "  <thead>\n",
       "    <tr style=\"text-align: right;\">\n",
       "      <th></th>\n",
       "      <th>LatAED</th>\n",
       "      <th>LongAED</th>\n",
       "    </tr>\n",
       "  </thead>\n",
       "  <tbody>\n",
       "    <tr>\n",
       "      <th>0</th>\n",
       "      <td>1.404618</td>\n",
       "      <td>103.904958</td>\n",
       "    </tr>\n",
       "    <tr>\n",
       "      <th>1</th>\n",
       "      <td>1.305288</td>\n",
       "      <td>103.822672</td>\n",
       "    </tr>\n",
       "    <tr>\n",
       "      <th>2</th>\n",
       "      <td>1.399522</td>\n",
       "      <td>103.678899</td>\n",
       "    </tr>\n",
       "    <tr>\n",
       "      <th>3</th>\n",
       "      <td>1.315533</td>\n",
       "      <td>103.914450</td>\n",
       "    </tr>\n",
       "    <tr>\n",
       "      <th>4</th>\n",
       "      <td>1.401517</td>\n",
       "      <td>103.901039</td>\n",
       "    </tr>\n",
       "  </tbody>\n",
       "</table>\n",
       "</div>"
      ],
      "text/plain": [
       "     LatAED     LongAED\n",
       "0  1.404618  103.904958\n",
       "1  1.305288  103.822672\n",
       "2  1.399522  103.678899\n",
       "3  1.315533  103.914450\n",
       "4  1.401517  103.901039"
      ]
     },
     "execution_count": 20,
     "metadata": {},
     "output_type": "execute_result"
    }
   ],
   "source": [
    "candidateAED = pd.read_csv('generatedPoints1_10000.csv',names=['LatAED','LongAED'])\n",
    "trainingOHCA = pd.read_csv('generatedPoints1_100000.csv',names=['LatOHCA','LongOHCA'])\n",
    "\n",
    "candidateAED.head()"
   ]
  },
  {
   "cell_type": "code",
   "execution_count": 21,
   "metadata": {},
   "outputs": [
    {
     "data": {
      "text/html": [
       "<div>\n",
       "<style scoped>\n",
       "    .dataframe tbody tr th:only-of-type {\n",
       "        vertical-align: middle;\n",
       "    }\n",
       "\n",
       "    .dataframe tbody tr th {\n",
       "        vertical-align: top;\n",
       "    }\n",
       "\n",
       "    .dataframe thead th {\n",
       "        text-align: right;\n",
       "    }\n",
       "</style>\n",
       "<table border=\"1\" class=\"dataframe\">\n",
       "  <thead>\n",
       "    <tr style=\"text-align: right;\">\n",
       "      <th></th>\n",
       "      <th>LatOHCA</th>\n",
       "      <th>LongOHCA</th>\n",
       "    </tr>\n",
       "  </thead>\n",
       "  <tbody>\n",
       "    <tr>\n",
       "      <th>0</th>\n",
       "      <td>1.274002</td>\n",
       "      <td>103.795127</td>\n",
       "    </tr>\n",
       "    <tr>\n",
       "      <th>1</th>\n",
       "      <td>1.347061</td>\n",
       "      <td>103.968633</td>\n",
       "    </tr>\n",
       "    <tr>\n",
       "      <th>2</th>\n",
       "      <td>1.334520</td>\n",
       "      <td>103.753447</td>\n",
       "    </tr>\n",
       "    <tr>\n",
       "      <th>3</th>\n",
       "      <td>1.363367</td>\n",
       "      <td>103.875963</td>\n",
       "    </tr>\n",
       "    <tr>\n",
       "      <th>4</th>\n",
       "      <td>1.458081</td>\n",
       "      <td>103.826529</td>\n",
       "    </tr>\n",
       "  </tbody>\n",
       "</table>\n",
       "</div>"
      ],
      "text/plain": [
       "    LatOHCA    LongOHCA\n",
       "0  1.274002  103.795127\n",
       "1  1.347061  103.968633\n",
       "2  1.334520  103.753447\n",
       "3  1.363367  103.875963\n",
       "4  1.458081  103.826529"
      ]
     },
     "execution_count": 21,
     "metadata": {},
     "output_type": "execute_result"
    }
   ],
   "source": [
    "trainingOHCA.head()"
   ]
  },
  {
   "cell_type": "code",
   "execution_count": 22,
   "metadata": {},
   "outputs": [
    {
     "name": "stdout",
     "output_type": "stream",
     "text": [
      "(9735, 2)\n"
     ]
    }
   ],
   "source": [
    "print(candidateAED.shape)\n",
    "number_of_AED = candidateAED.shape[0]"
   ]
  },
  {
   "cell_type": "code",
   "execution_count": 23,
   "metadata": {},
   "outputs": [],
   "source": [
    "def kmeans_OHCA_AED(OHCA,AED,k): #k is the number of clusters chosen\n",
    "    kmeans = KMeans(n_clusters=k, random_state=0).fit(OHCA) ### group OHCA into k clusters using Kmeans\n",
    "    #labels_:ndarray of shape (n_samples,), gives the label of cluster that each OHCA belongs to\n",
    "    OHCA_Cluster_All = pd.concat([OHCA,pd.DataFrame(kmeans.labels_,columns = [\"cluster\"])],axis=1) \n",
    "    #Predict the closest cluster each candidateAED belongs to\n",
    "    AED_label = kmeans.predict(AED) \n",
    "    AED_Cluster_All = pd.concat([AED, pd.DataFrame(AED_label,columns = [\"cluster\"])], axis=1)\n",
    "\n",
    "    return kmeans.cluster_centers_, kmeans.inertia_, OHCA_Cluster_All, AED_Cluster_All"
   ]
  },
  {
   "cell_type": "code",
   "execution_count": 9,
   "metadata": {},
   "outputs": [
    {
     "name": "stdout",
     "output_type": "stream",
     "text": [
      "Cluster centers for OHCA:\n",
      " [[  1.33969973 103.88496078]\n",
      " [  1.36667665 103.76624294]]\n",
      "Sum of squared distances of samples to their closest cluster center:\n",
      " 349.0798318170386\n",
      "--- 0.6179299354553223 seconds ---\n",
      "Wall time: 618 ms\n"
     ]
    }
   ],
   "source": [
    "%%time\n",
    "start_time = time.time()\n",
    "Cluster_centers, SSE, OHCA_cluster, AED_cluster = kmeans_OHCA_AED(trainingOHCA, candidateAED, 2)\n",
    "print('Cluster centers for OHCA:\\n', Cluster_centers)\n",
    "print('Sum of squared distances of samples to their closest cluster center:\\n',SSE)\n",
    "print(\"--- %s seconds ---\" % (time.time() - start_time))"
   ]
  },
  {
   "cell_type": "code",
   "execution_count": 10,
   "metadata": {},
   "outputs": [
    {
     "name": "stdout",
     "output_type": "stream",
     "text": [
      "Sum of squared distances of samples to their closest cluster center:\n",
      " 6.1859120845906945\n",
      "--- 65.0898289680481 seconds ---\n",
      "Wall time: 1min 5s\n"
     ]
    }
   ],
   "source": [
    "%%time\n",
    "start_time = time.time()\n",
    "Cluster_centers, SSE, OHCA_cluster, AED_cluster = kmeans_OHCA_AED(trainingOHCA, candidateAED, 100)\n",
    "#print('Cluster centers for OHCA:\\n', Cluster_centers)\n",
    "print('Sum of squared distances of samples to their closest cluster center:\\n',SSE)\n",
    "print(\"--- %s seconds ---\" % (time.time() - start_time))"
   ]
  },
  {
   "cell_type": "code",
   "execution_count": 24,
   "metadata": {},
   "outputs": [
    {
     "name": "stdout",
     "output_type": "stream",
     "text": [
      "Sum of squared distances of samples to their closest cluster center:\n",
      " 0.6125275880824289\n",
      "--- 431.2388319969177 seconds ---\n",
      "Wall time: 7min 11s\n"
     ]
    }
   ],
   "source": [
    "%%time\n",
    "start_time = time.time()\n",
    "\n",
    "Cluster_centers, SSE, OHCA_cluster, AED_cluster = kmeans_OHCA_AED(trainingOHCA, candidateAED, 1000)\n",
    "#print('Cluster centers for OHCA:\\n', Cluster_centers)\n",
    "print('Sum of squared distances of samples to their closest cluster center:\\n',SSE)\n",
    "print(\"--- %s seconds ---\" % (time.time() - start_time))"
   ]
  },
  {
   "cell_type": "code",
   "execution_count": 25,
   "metadata": {},
   "outputs": [
    {
     "name": "stdout",
     "output_type": "stream",
     "text": [
      "Sum of squared distances of samples to their closest cluster center:\n",
      " 0.10687997089705889\n",
      "--- 1821.9444057941437 seconds ---\n",
      "Wall time: 30min 21s\n"
     ]
    }
   ],
   "source": [
    "%%time\n",
    "start_time = time.time()\n",
    "\n",
    "Cluster_centers, SSE, OHCA_cluster, AED_cluster = kmeans_OHCA_AED(trainingOHCA, candidateAED, 5000)\n",
    "#print('Cluster centers for OHCA:\\n', Cluster_centers)\n",
    "print('Sum of squared distances of samples to their closest cluster center:\\n',SSE)\n",
    "print(\"--- %s seconds ---\" % (time.time() - start_time))"
   ]
  },
  {
   "cell_type": "code",
   "execution_count": 12,
   "metadata": {},
   "outputs": [],
   "source": [
    "def haverDist(OHCA_Cluster,AED_Cluster):\n",
    "    d = haversine_vector(list(zip(OHCA_Cluster.LatOHCA, OHCA_Cluster.LongOHCA)), list(zip(AED_Cluster.LatAED, AED_Cluster.LongAED)), Unit.METERS, comb=True).T\n",
    "    return(d)\n"
   ]
  },
  {
   "cell_type": "code",
   "execution_count": 28,
   "metadata": {},
   "outputs": [
    {
     "name": "stdout",
     "output_type": "stream",
     "text": [
      "36.32500259523648\n"
     ]
    }
   ],
   "source": [
    "print(((0.10687997089705889)**(0.5)/360) * 40000)"
   ]
  },
  {
   "cell_type": "code",
   "execution_count": null,
   "metadata": {},
   "outputs": [],
   "source": [
    "%%time\n",
    "start_time = time.time()\n",
    "\n",
    "Cluster_centers, SSE, OHCA_cluster, AED_cluster = kmeans_OHCA_AED(trainingOHCA, candidateAED, 7000)\n",
    "#print('Cluster centers for OHCA:\\n', Cluster_centers)\n",
    "print('Sum of squared distances of samples to their closest cluster center:\\n',SSE)\n",
    "print(\"--- %s seconds ---\" % (time.time() - start_time))"
   ]
  }
 ],
 "metadata": {
  "kernelspec": {
   "display_name": "Python 3",
   "language": "python",
   "name": "python3"
  },
  "language_info": {
   "codemirror_mode": {
    "name": "ipython",
    "version": 3
   },
   "file_extension": ".py",
   "mimetype": "text/x-python",
   "name": "python",
   "nbconvert_exporter": "python",
   "pygments_lexer": "ipython3",
   "version": "3.7.6"
  }
 },
 "nbformat": 4,
 "nbformat_minor": 5
}
